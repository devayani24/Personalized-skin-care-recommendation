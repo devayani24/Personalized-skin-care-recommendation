{
 "cells": [
  {
   "cell_type": "code",
   "execution_count": null,
   "id": "802ff7a1",
   "metadata": {},
   "outputs": [],
   "source": [
    "from bs4 import BeautifulSoup\n",
    "import requests\n",
    "import pandas as pd\n",
    "from selenium.webdriver import Chrome\n",
    "from selenium.webdriver.common.by import By\n",
    "\n",
    "from selenium import webdriver\n",
    "from selenium.webdriver.common.by import By\n",
    "from selenium.webdriver.common.keys import Keys\n",
    "from selenium.webdriver.common.action_chains import ActionChains\n",
    "from selenium.webdriver.support.ui import WebDriverWait\n",
    "from selenium.webdriver.support import expected_conditions as EC\n",
    "from selenium.common.exceptions import TimeoutException"
   ]
  },
  {
   "cell_type": "code",
   "execution_count": null,
   "id": "ca9f5301",
   "metadata": {},
   "outputs": [],
   "source": [
    "ProdDict = {}\n",
    "\n",
    "ProdDict['ProductName'] = []\n",
    "ProdDict['ProductDescription']=[]\n",
    "ProdDict['ProductIngredients']=[]\n",
    "ProdDict['ProductPrice']=[]\n",
    "ProdDict['href']=[]"
   ]
  },
  {
   "cell_type": "code",
   "execution_count": null,
   "id": "66b48823",
   "metadata": {},
   "outputs": [],
   "source": [
    "UserDict = {}\n",
    "\n",
    "UserDict['ProductName'] = []\n",
    "UserDict['Username'] = []\n",
    "UserDict['Reviews']=[]\n",
    "UserDict['Ratings'] = []\n"
   ]
  },
  {
   "cell_type": "code",
   "execution_count": null,
   "id": "0196a0bc",
   "metadata": {},
   "outputs": [],
   "source": [
    "def appendData(product_name,review_all,user_all,rating_all):       \n",
    "\n",
    "    UserDict['ProductName'].extend((product_name for i in range(len(review_all))))\n",
    "    UserDict['Username'].extend((u.text.strip() for u in user_all))\n",
    "    UserDict['Reviews'].extend((r.text.strip() for r in review_all))\n",
    "    UserDict['Ratings'].extend((r['title'] for r in rating_all))\n",
    "    \n",
    "def retrieve_reviews_user(nextpage,product_name):   \n",
    "    \n",
    "    rating_all=nextpage.find_all('abbr',class_=\"bv-rating bv-rating-stars bv-rating-stars-off\")\n",
    "    user_all=nextpage.find_all('span',class_='bv-author')\n",
    "    review_all=nextpage.find_all('div',class_='bv-content-summary-body-text') \n",
    "    appendData(product_name,review_all,user_all,rating_all)\n",
    "    \n",
    "def extract_info(nextpage,tag,classname):\n",
    "    try:\n",
    "        html = nextpage.find(tag, class_=classname)        \n",
    "        if html:\n",
    "            return html.text.strip()            \n",
    "        else:\n",
    "            return \"Error while retreiving html\"\n",
    "    except AttributeError:\n",
    "        return None"
   ]
  },
  {
   "cell_type": "code",
   "execution_count": null,
   "id": "7a781099",
   "metadata": {},
   "outputs": [],
   "source": [
    "def main(products_html,driver):\n",
    "    for p in products_html:\n",
    "        product_name=p.find('div',class_=\"product__title\").text.strip()\n",
    "        product_price=p.find('div',class_=\"product__price\").text.strip()\n",
    "        href=p.get(\"href\")\n",
    "\n",
    "        ProdDict['ProductName'].append(product_name)\n",
    "        ProdDict['ProductPrice'].append(product_price)    \n",
    "        ProdDict['href'].append(href)\n",
    "        \n",
    "        driver.get(href)\n",
    "        nextpage=BeautifulSoup(driver.page_source,'lxml')  \n",
    "        prod_desc = nextpage.find_all('div', class_=\"details\",itemprop=\"description\")[2].text.strip()\n",
    "        \n",
    "        ProdDict['ProductDescription'].append(prod_desc)\n",
    "        prod_ing = extract_info(nextpage,'section', \"product-info-section ingredients\")        \n",
    "        ProdDict['ProductIngredients'].append(prod_ing)\n",
    "       \n",
    "        \n",
    "        retrieve_reviews_user(nextpage,product_name)\n",
    "\n",
    "        while nextpage:\n",
    "            try:\n",
    "                nextpage_link = nextpage.find('a', class_=\"bv-content-btn bv-content-btn-pages bv-content-btn-pages-last bv-focusable bv-content-btn-pages-active\")\n",
    "                if nextpage_link:\n",
    "                    nextpage_url = nextpage_link.get(\"href\")\n",
    "                    driver.get(nextpage_url)\n",
    "                    nextpage = BeautifulSoup(driver.page_source, 'lxml')\n",
    "                    retrieve_reviews_user(nextpage,product_name)\n",
    "                else:\n",
    "                    nextpage = None\n",
    "            except AttributeError:\n",
    "                retrieve_reviews_user(nextpage,product_name)\n",
    "                nextpage = None"
   ]
  },
  {
   "cell_type": "code",
   "execution_count": null,
   "id": "5d37aa25",
   "metadata": {},
   "outputs": [],
   "source": [
    "def next_page(driver, times):\n",
    "    for _ in range(times-1):\n",
    "        next_button = WebDriverWait(driver, 10).until(\n",
    "            EC.element_to_be_clickable((By.CSS_SELECTOR, \".pager__button--next\"))\n",
    "        )\n",
    "        next_button.click()"
   ]
  },
  {
   "cell_type": "code",
   "execution_count": null,
   "id": "efce8d60",
   "metadata": {},
   "outputs": [],
   "source": [
    "\n",
    "def scrapeData(page,initial_page_url,UserDataFileName,ProductDataFileName):\n",
    "\n",
    "    driver = Chrome()\n",
    "   \n",
    "    driver.get(initial_page_url)\n",
    "\n",
    "    next_page(driver,page)\n",
    "\n",
    "    WebDriverWait(driver, 10).until(\n",
    "        EC.presence_of_element_located((By.CLASS_NAME, \"category-product\"))\n",
    "    )\n",
    "\n",
    "\n",
    "    soup=BeautifulSoup(driver.page_source,'lxml')    \n",
    "    products_html=soup.find_all('a',class_=\"category-product\")\n",
    "\n",
    "\n",
    "    main(products_html,driver)\n",
    "    # converting the dictionary to dataframe:\n",
    "    ProductData=pd.DataFrame(ProdDict)\n",
    "    UserData=pd.DataFrame(UserDict)\n",
    "\n",
    "    UserData.to_csv(f'{UserDataFileName}_{page}.csv')\n",
    "    ProductData.to_csv(f'{ProductDataFileName}_{page}.csv')"
   ]
  },
  {
   "cell_type": "code",
   "execution_count": null,
   "id": "cd3ab743",
   "metadata": {},
   "outputs": [],
   "source": [
    "scrapeData(1,\"https://www.chemistwarehouse.com.au/shop-online/2351/la-roche-posay\",\"La Roche-Posay_userData_ProductsPage\",\"La Roche-Posay_Products_InfoPage\")"
   ]
  },
  {
   "cell_type": "code",
   "execution_count": null,
   "id": "0c34ccb5",
   "metadata": {},
   "outputs": [],
   "source": []
  }
 ],
 "metadata": {
  "kernelspec": {
   "display_name": "Python 3 (ipykernel)",
   "language": "python",
   "name": "python3"
  },
  "language_info": {
   "codemirror_mode": {
    "name": "ipython",
    "version": 3
   },
   "file_extension": ".py",
   "mimetype": "text/x-python",
   "name": "python",
   "nbconvert_exporter": "python",
   "pygments_lexer": "ipython3",
   "version": "3.9.12"
  }
 },
 "nbformat": 4,
 "nbformat_minor": 5
}
